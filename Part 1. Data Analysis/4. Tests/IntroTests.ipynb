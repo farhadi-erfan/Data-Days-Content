{
 "cells": [
  {
   "cell_type": "markdown",
   "metadata": {},
   "source": [
    "<div style=\"direction:rtl;line-height:300%;\">\n",
    "\t<font face=\"XB Zar\" size=5>\n",
    "\t\t<div align=center>\n",
    "\t\t\t<font face=\"IranNastaliq\" size=30>\n",
    "\t\t\t\t<p></p>\n",
    "\t\t\t\t<p></p>\n",
    "به نام خدا\n",
    "\t\t\t\t<p></p>\n",
    "\t\t\t</font>\n",
    "\t\t\t<font color=#FF7500>\n",
    "دانشگاه صنعتی شریف - دانشکده مهندسی کامپیوتر\n",
    "            </font>\n",
    "\t\t\t<p></p>\n",
    "\t\t\t<font color=blue>\n",
    "DATA DAYS\n",
    "            </font>\n",
    "\t\t\t<br />\n",
    "\t\t\t<br />\n",
    "زمستان ۱۳۹۷\n",
    "\t\t</div>\n",
    "\t\t<hr/>\n",
    "\t\t<font color=red size=6>\n",
    "\t\t\t<br />\n",
    "\t\t\t<div align=center>\n",
    "تست‌های آماری\n",
    "            </div>\n",
    "\t\t</font>\n",
    "\t\t<br />\n",
    "\t\t<div align=center>\n",
    "گردآوری و ترجمه: آقا خانم فلان بهمان\n",
    "        </div>\n",
    "\t\t<hr />\n",
    "\t\t<style type=\"text/css\" scoped>\n",
    "        p{\n",
    "        border: 1px solid #a2a9b1;background-color: #f8f9fa;display: inline-block;\n",
    "        };\n",
    "        </style>\n",
    "\t\t<div>\n",
    "\t\t\t<h3>فهرست مطالب</h3>\n",
    "\t\t\t<ul style=\"margin-right: 0;\">\n",
    "\t\t\t\t<li>\n",
    "                    <a href=\"#sec_tidy_data\">\n",
    "مرتب‌سازی داده\n",
    "                    </a>              \n",
    "                </li>\n",
    "                <ul style=\"margin-right: 0;\">\n",
    "\t\t\t\t<li>\n",
    "                    <a href=\"#sec_why_tidy_data\">\n",
    "چرا باید داده را مرتب کنیم؟ \n",
    "                    </a>              \n",
    "                </li>\n",
    "                <li>\n",
    "                    <a href=\"#sec_tidytext_install\">\n",
    "نصب کتابخانه‌ی tidytext \n",
    "                    </a>              \n",
    "                </li>\n",
    "                <li>\n",
    "                    <a href=\"#sec_unnest_tokens\">\n",
    "تابع unnest_tokens \n",
    "                    </a>              \n",
    "                </li>\n",
    "                <li>\n",
    "                    <a href=\"#sec_tidy_shahname\">\n",
    "یک قدم فراتر: بررسی چند بخش شاهنامه\n",
    "                    </a>              \n",
    "                </li>\n",
    "\t\t\t</ul>\n",
    "\t\t\t</ul>\n",
    "\t\t</div>\n",
    "\t</font>\n",
    "</div>"
   ]
  },
  {
   "cell_type": "markdown",
   "metadata": {},
   "source": [
    "<br>\n",
    "<div id=\"sec_why_tidy_data\" style=\"direction:rtl;line-height:300%;\">\n",
    "\t<font face=\"XB Zar\" size=5>\n",
    "\t\t<font color=#FF7500 size=6>\n",
    "استنتاج آماری\n",
    "        </font>\n",
    "\t\t<p></p>\n",
    "\t\t<hr>\n",
    "        کلیت روش‌های مربوط به فرضیه بر اساس گامهای زیر است:\n",
    "        <ol>\n",
    "            <li>\n",
    "                در نظر گرفتن یک فرض اولیه. \n",
    "            </li>\n",
    "            <li>\n",
    "                جمع آوری شواهد(داده‌ها)\n",
    "            </li>            \n",
    "            <li>\n",
    "                با توجه به داده‌های جمع‌آوری شده، تصمیم می‌گیریم که فرض اولیه را قبول کنیم و یا رد کنیم. \t\n",
    "            </li>\n",
    "            </ol>\n",
    "        <br>\n",
    "        شش بخش آزمون یک فرضیه عبارت هستند از:\n",
    "        <ol>\n",
    "            <li>\n",
    "                داشتن دو فرضیه که در تقابل یک‌دیگر هستند. \n",
    "            </li>\n",
    "            <li>\n",
    "                معین کردن سطح اطمینان که معمولا آن را &alpha; می‌نامیم.\n",
    "            </li>            \n",
    "            <li>\n",
    "                محاسبه‌ی یک آماره‌ی متناظر با فرصیه.\n",
    "            </li>\n",
    "            <li>\n",
    "                محاسبه‌ی احتمال وقوع(<i>p-value</i>) و تعیین مرز برای بازه‌های مردود بودن فرضیه.\n",
    "            </li>\n",
    "            <li>\n",
    "                در نظر گرفتن یک آزمون صحت یا عدم صحت برای فرض صفر (همان فرض اولیه‌ی مد نظرمان)\n",
    "            </li>\n",
    "            <li>\n",
    "                بیان نتیجه‌گیری کلی حاصل از تست\n",
    "            </ol>\n",
    "<br>\n",
    "</font>\n",
    "</div>"
   ]
  },
  {
   "cell_type": "markdown",
   "metadata": {},
   "source": [
    "<br>\n",
    "<div id=\"sec_tidytext_install\" style=\"direction:rtl;line-height:300%;\">\n",
    "\t<font face=\"XB Zar\" size=5>\n",
    "\t\t<font color=#FF7500 size=6>\n",
    "آزمون فرضیه\n",
    "</font>\n",
    "\t\t<p></p>\n",
    "\t\t<hr>\n",
    "        عناصر اصلی آزمون فرضیه عبارت‌اند از:\n",
    "        <ul>\n",
    "            <li>\n",
    "                <b>آماره‌ی آزمون:</b> آن آماره‌ی خاصی از داده‌ها که بر اساس آن تصمیم می‌گیریم تا H<sub>0</sub> (فرض صفر) را رد کنیم و یا قبول کنیم.\n",
    "            </li>\n",
    "            <li>\n",
    "                <b>مقادیر بحرانی:</b> مقادیری از آماره‌ی آزمون که مرز بین ناحیه‌ی مردودی فرضیه و ناحیه‌ی قابل پذیرش بودن فرضیه را مشخص می‌کند.\n",
    "            </li>\n",
    "            <li>\n",
    "                <b>ناحیه‌ی مردودی:</b> مجموعه مقادیری از آماره‌ی آزمون که به ازای آنها نتیجه می‌گیریم که فرضیه غلط بوده است.\n",
    "            </li>\n",
    "            <li>\n",
    "                <b>ناحیه‌ی پذیرش:</b> مجموعه مقادیری از آماره‌ی آزمون که به ازای آنها نتیجه می‌گیریم که فرضیه غلط نبوده است.\n",
    "            </li>\n",
    "            <li>\n",
    "                <b>P-value:</b> احتمال اینکه آماره‌ی آزمون به شرط صحت فرض صفر، حداقل به شدت مقدار مشاهده شده باشد را پی‌مقدار - کوتاه‌شده‌ی عبارت probability value - تعریف می‌کنیم.\n",
    "        </ul>\n",
    "        در کل دو نوع خطا می‌توانیم داشته باشیم:\n",
    "<table style=\"width:100%\">\n",
    "  <tr>\n",
    "    <th>Decision</th>\n",
    "      <th>H<sub>0</sub> is true </th>\n",
    "    <th>H<sub>0</sub> is false</th>\n",
    "  </tr>\n",
    "  <tr>\n",
    "    <td>Accept H<sub>0</sub></td>\n",
    "    <td>OK</td> \n",
    "    <td>&beta; = probability of type II error</td>\n",
    "  </tr>\n",
    "  <tr>\n",
    "    <td>Reject H<sub>0</sub></td>\n",
    "    <td>&alpha; = probability of type I error</td> \n",
    "    <td>OK</td>\n",
    "  </tr>\n",
    "</table>\n",
    "<img src=\"type-i-and-type-ii-errors.jpg\" alt=\"Error Types\">\n",
    "</font>\n",
    "</div>\n"
   ]
  },
  {
   "cell_type": "markdown",
   "metadata": {},
   "source": [
    "<br>\n",
    "<div id=\"sec_tidytext_install\" style=\"direction:rtl;line-height:300%;\">\n",
    "\t<font face=\"XB Zar\" size=5>\n",
    "\t\t<font color=#FF7500 size=6>\n",
    "فرض صفر و انواع فرض مقابل آن\n",
    "</font>\n",
    "\t\t<p></p>\n",
    "\t\t<hr>\n",
    "        فرض مقابل فرض صفر را به سه شکل می‌توانیم در نظر بگیریم:\n",
    "        <ul>\n",
    "            <li>\n",
    "                فرض مقابل این باشد که پارامتر مورد نظر ما با مقدار معینی نامساوی است. در این حالت به آزمون، <b>آزمون دوطرفه</b> گفته می‌شود. <i>H<sub>a</sub>: p &ne; p<sub>0</sub> or &mu; &ne; &mu;<sub>0</sub></i> \n",
    "            </li>\n",
    "            <li>\n",
    "                فرض مقابل این باشد که پارامتر مورد نظر ما از مقدار معینی بیشتر است. در این حالت به آزمون، <b>آزمون یک‌طرفه از راست</b> گفته می‌شود. <i>H<sub>a</sub>: p &gt; p<sub>0</sub> or &mu; &gt; &mu;<sub>0</sub></i>\n",
    "            </li>\n",
    "            <li>\n",
    "                فرض مقابل این باشد که پارامتر مورد نظر ما از مقدار معینی کمتر است. در این حالت به آزمون، <b>آزمون یک‌طرفه از چپ</b> گفته می‌شود. <i>H<sub>a</sub>: p &lt; p<sub>0</sub> or &mu; &lt; &mu;<sub>0</sub></i>\n",
    "        </ul>\n",
    "\n",
    "</font>\n",
    "</div>\n"
   ]
  },
  {
   "cell_type": "markdown",
   "metadata": {},
   "source": [
    "<br>\n",
    "<div id=\"sec_unnest_tokens\" style=\"direction:rtl;line-height:300%;\">\n",
    "\t<font face=\"XB Zar\" size=5>\n",
    "\t\t<font color=#FF7500 size=6>\n",
    "توابع آماری پایه\n",
    "</font>\n",
    "\t\t<p></p>\n",
    "\t\t<hr>\n",
    "\n",
    "</font>\n",
    "</div>\n"
   ]
  },
  {
   "cell_type": "markdown",
   "metadata": {},
   "source": [
    "<br>\n",
    "<div id=\"basic_functions\" style=\"line-height:200%\">\n",
    "    \n",
    "## Normal probability distribution\n",
    "<br>\n",
    "<font face=\"XB Niloofar\" size=4>\n",
    "<strong>rnorm()</strong>     # Random sample normal distribution\n",
    "<br>\n",
    "<strong>dnorm()</strong>     # Probability density function\n",
    "<br>\n",
    "<strong>qnorm()</strong>     # Quantile: critical value of the CD\n",
    "<br>\n",
    "<strong>pnorm()</strong> # Probability: area under the CD\n",
    "<br>\n",
    "</font>\n",
    "\n",
    "## Other distributions\n",
    "<br>\n",
    "<font face=\"XB Niloofar\" size=4>\n",
    "<strong>dunif()</strong>  # Uniform distribution\n",
    "<br>\n",
    "<strong>dbinom()</strong> # Binomial distribution\n",
    "<br>\n",
    "<strong>dchisq()</strong> # Chi-squared distribution\n",
    "<br>\n",
    "<strong>dexp()</strong>     # Exponential distribution\n",
    "<br>\n",
    "<strong>df()</strong>       # F distribution\n",
    "<br>\n",
    "<strong>dpois()</strong>    # Poisson distribution\n",
    "<br>\n",
    "<strong>dt()</strong>       # Student's t distribution\n",
    "<br>\n",
    "</font>\n",
    "\n",
    "## Basic Statistics Functions\n",
    "<br>\n",
    "<font face=\"XB Niloofar\" size=4>\n",
    "<strong>mean()</strong>\n",
    "<br>\n",
    "<strong>sd()</strong>\n",
    "<br>\n",
    "<strong>var()</strong>\n",
    "<br>\n",
    "<strong>cor()</strong>\n",
    "<br>\n",
    "<strong>min()</strong>\n",
    "<br>\n",
    "<strong>max()</strong>\n",
    "<br>\n",
    "<strong>median()</strong>\n",
    "<br>\n",
    "<strong>length()</strong>\n",
    "<br>\n",
    "<strong>range()</strong>\n",
    "<br>\n",
    "<strong>quantile()</strong>\n",
    "<br>\n",
    "<strong>summary()</strong>\n",
    "</font>\n",
    "</div>"
   ]
  },
  {
   "cell_type": "code",
   "execution_count": 6,
   "metadata": {
    "scrolled": true
   },
   "outputs": [
    {
     "ename": "ERROR",
     "evalue": "Error in hchart(data, name = \"data\"): could not find function \"hchart\"\n",
     "output_type": "error",
     "traceback": [
      "Error in hchart(data, name = \"data\"): could not find function \"hchart\"\nTraceback:\n"
     ]
    }
   ],
   "source": [
    "data = rnorm(100 , mean = 10) # Random sample\n",
    "hchart(data,name = \"data\") >  hc_add_theme(hc_theme_ffx())"
   ]
  },
  {
   "cell_type": "markdown",
   "metadata": {},
   "source": [
    "<div style=\"direction:rtl;line-height:300%;\">\n",
    "\t<font face=\"XB Zar\" size=5>\n",
    "می‌خواهیم این دیتافریم را طبق تعریفی که قبلا ارائه کردیم tokenize کنیم. تابع unnest_tokens() به شکل بسیار راحتی این کار را برای ما می‌کند. این تابع ورودی‌های زیر را می‌گیرد:\n",
    "<ol>\n",
    "    <li>\n",
    "        دیتافریمی که باید tokenize کند. \n",
    "    </li>\n",
    "        <li>\n",
    "            نام ستون خروجی شامل tokenها\n",
    "    </li>\n",
    "        <li>\n",
    "            نام ستون ورودی شامل متن\n",
    "    </li>\n",
    "        <li>\n",
    "            نوع token \n",
    "    </li>\n",
    "    </ol>\n",
    "        تا اینجا مورد اول تا سوم برای ما کافی هستند، در رابطه با مورد چهارم جلوتر توضیح خواهیم داد. \n",
    "مطابق با توضیحات بالا، تابع را فراخوانی می‌کنیم\n",
    "\n",
    "</font>\n",
    "</div>"
   ]
  },
  {
   "cell_type": "code",
   "execution_count": null,
   "metadata": {
    "scrolled": true
   },
   "outputs": [],
   "source": [
    "df %>% unnest_tokens(word, text)"
   ]
  },
  {
   "cell_type": "markdown",
   "metadata": {},
   "source": [
    "<div style=\"direction:rtl;line-height:300%;\">\n",
    "\t<font face=\"XB Zar\" size=5>\n",
    "        می‌بینید که در ستون خروجی word، کلمات جداشده‌ی متن قرار دارند. \n",
    "</font>\n",
    "</div>"
   ]
  },
  {
   "cell_type": "markdown",
   "metadata": {},
   "source": [
    "<br>\n",
    "<div id=\"sec_tidy_shahname\" style=\"direction:rtl;line-height:300%;\">\n",
    "\t<font face=\"XB Zar\" size=5>\n",
    "\t\t<font color=#FF7500 size=6>\n",
    "یک قدم فراتر: بررسی چند بخش شاهنامه\n",
    "        </font>\n",
    "\t\t<p></p>\n",
    "\t\t<hr>\n",
    "داده‌ي موجود در فایل shahname.txt شامل ۱۰ بخش از داستان رستم و اسفندیار شاهنامه است. با دستور زیر داده را می‌خوانیم.\n",
    "    </font>\n",
    "</div>"
   ]
  },
  {
   "cell_type": "code",
   "execution_count": null,
   "metadata": {
    "scrolled": true
   },
   "outputs": [],
   "source": [
    "shahname <- read.delim(file = \"shahname.txt\", stringsAsFactors = F, header = F)\n",
    "colnames(shahname) = \"beyt\""
   ]
  },
  {
   "cell_type": "markdown",
   "metadata": {},
   "source": [
    "<div style=\"direction:rtl;line-height:300%;\">\n",
    "\t<font face=\"XB Zar\" size=5>\n",
    "پس از بررسی داده، متوجه می‌شویم که شروع هر بخش با ”بخش n“ مشخص شده است که n عدد با فونت فارسی است. می‌خواهیم بخش‌های مختلف کتاب را از هم جدا کنیم. به regex زیر توجه کنید:\n",
    " \n",
    "</font>\n",
    "</div>"
   ]
  },
  {
   "cell_type": "code",
   "execution_count": null,
   "metadata": {
    "scrolled": true
   },
   "outputs": [],
   "source": [
    "regex_chapter <- \"بخش [۰۱۲۳۴۵۶۷۸۹]+\""
   ]
  },
  {
   "cell_type": "markdown",
   "metadata": {},
   "source": [
    "<div style=\"direction:rtl;line-height:300%;\">\n",
    "\t<font face=\"XB Zar\" size=5>\n",
    "        این regex تشخیص می‌دهد که ”بخش n“ در متن قرار دارد یا نه. برای اطلاعات بیشتر از regexها به\n",
    "         <a href=\"http://www.cbs.dtu.dk/courses/27610/regular-expressions-cheat-sheet-v2.pdf\">اینجا</a>\n",
    "        و \n",
    "         <a href=\"https://stringr.tidyverse.org/articles/regular-expressions.html\">اینجا</a>\n",
    "        مراجعه کنید. \n",
    "        <br><br>\n",
    "        با استفاده از دستورات زیر مشخص می‌کنیم که هر بیت مربوط به کدام بخش است:\n",
    "       \n",
    "</font>\n",
    "</div>"
   ]
  },
  {
   "cell_type": "code",
   "execution_count": null,
   "metadata": {
    "scrolled": true
   },
   "outputs": [],
   "source": [
    "library(stringr)\n",
    "shahname.chapter <- shahname %>%\n",
    "    mutate(chapter = cumsum(str_detect(beyt, regex_chapter)))"
   ]
  },
  {
   "cell_type": "markdown",
   "metadata": {},
   "source": [
    "<div style=\"direction:rtl;line-height:300%;\">\n",
    "\t<font face=\"XB Zar\" size=5>\n",
    "        مانند فرآیندی که در بخش قبل انجام دادیم، کلمات را جدا کرده، تعداد آن ها در هر فصل را بدست می‌آوریم و به ترتیب نزولی می‌چینیم. \n",
    "</font>\n",
    "</div>"
   ]
  },
  {
   "cell_type": "code",
   "execution_count": null,
   "metadata": {},
   "outputs": [],
   "source": [
    "shahname.chapter <- shahname.chapter %>% \n",
    "    unnest_tokens(word, beyt) %>% \n",
    "    group_by(chapter, word) %>% \n",
    "    summarise(count = n()) %>% \n",
    "    arrange(chapter, desc(count))"
   ]
  },
  {
   "cell_type": "markdown",
   "metadata": {},
   "source": [
    "<div style=\"direction:rtl;line-height:300%;\">\n",
    "\t<font face=\"XB Zar\" size=5>\n",
    "\tدر هر بخش ۱۰ کلمه‌ی پر‌تکرار را انتخاب می‌کنیم \n",
    "</font>\n",
    "</div>"
   ]
  },
  {
   "cell_type": "code",
   "execution_count": null,
   "metadata": {},
   "outputs": [],
   "source": [
    "shahname.chapter.best <- shahname.chapter %>% \n",
    "  mutate(rank = rank(-count) %>% as.integer(), \n",
    "         rank = row_number(rank)) %>% \n",
    "  filter(rank <= 10)"
   ]
  },
  {
   "cell_type": "markdown",
   "metadata": {},
   "source": [
    "<div style=\"direction:rtl;line-height:300%;\">\n",
    "\t<font face=\"XB Zar\" size=5>\n",
    "\tدر نهایت نمودار فراوانی این کلمات را رسم می‌کنیم</font>\n",
    "</div>"
   ]
  },
  {
   "cell_type": "code",
   "execution_count": null,
   "metadata": {
    "scrolled": false
   },
   "outputs": [],
   "source": [
    "p <- ggplot(shahname.chapter.best, aes(x = word, y = count, fill = as.factor(paste(\"بخش\", chapter, sep = \" \")))) + \n",
    "  geom_bar(stat = \"identity\", show.legend = FALSE) + \n",
    "  facet_wrap(~chapter, ncol = 5,  scales = \"free\") + \n",
    "  theme_minimal() + \n",
    "  coord_flip()"
   ]
  },
  {
   "cell_type": "markdown",
   "metadata": {},
   "source": [
    "<div style=\"direction:rtl;line-height:300%;\">\n",
    "\t<font face=\"XB Zar\" size=5>\n",
    "\tچون ggplot برای زبان‌های راست به چپ درست عمل نمی‌کند از کتابخانه‌ی plotly استفاده می‌کنیم. \n",
    "    </font>\n",
    "</div>"
   ]
  },
  {
   "cell_type": "code",
   "execution_count": null,
   "metadata": {},
   "outputs": [],
   "source": [
    "library(plotly)\n",
    "ggplotly(p)"
   ]
  },
  {
   "cell_type": "markdown",
   "metadata": {},
   "source": [
    "<div style=\"direction:rtl;line-height:300%;\">\n",
    "\t<font face=\"XB Zar\" size=5>\n",
    "همانطور که می‌بینید بخش زیادی از کلمات، کلمات اضافه و بی‌معنی هستند. شما باید این کلمات را از متن حذف کنید تا تحلیل بهتری داشته باشید. \n",
    "        برای این‌کار می‌توانید لیستی از کلمات اضافه تهیه کنید \n",
    "کلمات مخالف آن‌ها را در tokenها فیلتر کنید.\n",
    "    </font>\n",
    "</div>"
   ]
  },
  {
   "cell_type": "code",
   "execution_count": null,
   "metadata": {},
   "outputs": [],
   "source": []
  }
 ],
 "metadata": {
  "kernelspec": {
   "display_name": "R",
   "language": "R",
   "name": "ir"
  },
  "language_info": {
   "codemirror_mode": "r",
   "file_extension": ".r",
   "mimetype": "text/x-r-source",
   "name": "R",
   "pygments_lexer": "r",
   "version": "3.5.2"
  },
  "latex_envs": {
   "LaTeX_envs_menu_present": true,
   "autoclose": false,
   "autocomplete": true,
   "bibliofile": "biblio.bib",
   "cite_by": "apalike",
   "current_citInitial": 1,
   "eqLabelWithNumbers": true,
   "eqNumInitial": 1,
   "hotkeys": {
    "equation": "Ctrl-E",
    "itemize": "Ctrl-I"
   },
   "labels_anchors": false,
   "latex_user_defs": false,
   "report_style_numbering": false,
   "user_envs_cfg": false
  },
  "toc": {
   "base_numbering": 1,
   "nav_menu": {},
   "number_sections": true,
   "sideBar": true,
   "skip_h1_title": false,
   "title_cell": "Table of Contents",
   "title_sidebar": "Contents",
   "toc_cell": false,
   "toc_position": {},
   "toc_section_display": true,
   "toc_window_display": false
  },
  "varInspector": {
   "cols": {
    "lenName": 16,
    "lenType": 16,
    "lenVar": 40
   },
   "kernels_config": {
    "python": {
     "delete_cmd_postfix": "",
     "delete_cmd_prefix": "del ",
     "library": "var_list.py",
     "varRefreshCmd": "print(var_dic_list())"
    },
    "r": {
     "delete_cmd_postfix": ") ",
     "delete_cmd_prefix": "rm(",
     "library": "var_list.r",
     "varRefreshCmd": "cat(var_dic_list()) "
    }
   },
   "types_to_exclude": [
    "module",
    "function",
    "builtin_function_or_method",
    "instance",
    "_Feature"
   ],
   "window_display": false
  }
 },
 "nbformat": 4,
 "nbformat_minor": 2
}
