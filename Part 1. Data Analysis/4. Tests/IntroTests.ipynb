{
 "cells": [
  {
   "cell_type": "markdown",
   "metadata": {},
   "source": [
    "<div style=\"direction:rtl;line-height:300%;\">\n",
    "\t<font face=\"XB Zar\" size=5>\n",
    "\t\t<div align=center>\n",
    "\t\t\t<font face=\"IranNastaliq\" size=30>\n",
    "\t\t\t\t<p></p>\n",
    "\t\t\t\t<p></p>\n",
    "به نام خدا\n",
    "\t\t\t\t<p></p>\n",
    "\t\t\t</font>\n",
    "\t\t\t<font color=#FF7500>\n",
    "دانشگاه صنعتی شریف - دانشکده مهندسی کامپیوتر\n",
    "            </font>\n",
    "\t\t\t<p></p>\n",
    "\t\t\t<font color=blue>\n",
    "DATA DAYS\n",
    "            </font>\n",
    "\t\t\t<br />\n",
    "\t\t\t<br />\n",
    "زمستان ۱۳۹۷\n",
    "\t\t</div>\n",
    "\t\t<hr/>\n",
    "\t\t<font color=red size=6>\n",
    "\t\t\t<br />\n",
    "\t\t\t<div align=center>\n",
    "تحلیل داده‌های متن \n",
    "            </div>\n",
    "\t\t</font>\n",
    "\t\t<br />\n",
    "\t\t<div align=center>\n",
    "اسم خودمو باید بنویسم؟!\n",
    "        </div>\n",
    "\t\t<hr />\n",
    "\t\t<style type=\"text/css\" scoped>\n",
    "        p{\n",
    "        border: 1px solid #a2a9b1;background-color: #f8f9fa;display: inline-block;\n",
    "        };\n",
    "        </style>\n",
    "\t\t<div>\n",
    "\t\t\t<h3>فهرست مطالب</h3>\n",
    "\t\t\t<ul style=\"margin-right: 0;\">\n",
    "\t\t\t\t<li>\n",
    "                    <a href=\"#sec_tidy_data\">\n",
    "مرتب‌سازی داده\n",
    "                    </a>              \n",
    "                </li>\n",
    "                <ul style=\"margin-right: 0;\">\n",
    "\t\t\t\t<li>\n",
    "                    <a href=\"#sec_why_tidy_data\">\n",
    "چرا باید داده را مرتب کنیم؟ \n",
    "                    </a>              \n",
    "                </li>\n",
    "                <li>\n",
    "                    <a href=\"#sec_tidytext_install\">\n",
    "نصب کتابخانه‌ی tidytext \n",
    "                    </a>              \n",
    "                </li>\n",
    "                <li>\n",
    "                    <a href=\"#sec_unnest_tokens\">\n",
    "تابع unnest_tokens \n",
    "                    </a>              \n",
    "                </li>\n",
    "                <li>\n",
    "                    <a href=\"#sec_tidy_shahname\">\n",
    "یک قدم فراتر: بررسی چند بخش شاهنامه\n",
    "                    </a>              \n",
    "                </li>\n",
    "\t\t\t</ul>\n",
    "\t\t\t</ul>\n",
    "\t\t</div>\n",
    "\t</font>\n",
    "</div>"
   ]
  },
  {
   "cell_type": "markdown",
   "metadata": {},
   "source": [
    "<div id=\"sec_tidy_data\" style=\"direction:rtl;line-height:300%;\">\n",
    "\t<font face=\"XB Zar\" size=7>\n",
    "\t\t<font color=red size=6>\n",
    "\t\t\t<br />\n",
    "            <hr>\n",
    "\t\t\t<div align=center>\n",
    "مرتب‌سازی داده\n",
    "            </div>\n",
    "\t\t</font>\n",
    "\t\t<hr>\n",
    "\t</font>\n",
    "</div>"
   ]
  },
  {
   "cell_type": "markdown",
   "metadata": {},
   "source": [
    "<br>\n",
    "<div id=\"sec_why_tidy_data\" style=\"direction:rtl;line-height:300%;\">\n",
    "\t<font face=\"XB Zar\" size=5>\n",
    "\t\t<font color=#FF7500 size=6>\n",
    "چرا باید داده را مرتب کنیم؟\n",
    "        </font>\n",
    "\t\t<p></p>\n",
    "\t\t<hr>\n",
    "        هنگامی که با تحلیل کردن داده سر و کار داریم، اکثر موقع داده‌ی در دست، داده‌ای نامرتب و به هم‌ریخته است. در قدم اول کاری که تحلیل را آسان‌تر و کاراتر می‌کند تمیز کردن و ساختار دادن به داده است. در کار با داده‌های متنی نیز اولین قدم باید آن را به نحوی مرتب کنیم که نیازهای ما را برآورده کند.\n",
    "        <br>\n",
    "        <a href=\"https://www.jstatsoft.org/article/view/v059i10\">این مقاله</a>\n",
    "داده‌ی مرتب را داده‌ای با ویژگی‌های زیر تعریف می‌کند:\n",
    "        <ol>\n",
    "            <li>\n",
    "               هر متغیر یک ستون است.  \n",
    "            </li>\n",
    "            <li>\n",
    "                هر مشاهده یک سطر است. \n",
    "            </li>            \n",
    "            <li>\n",
    "                هر مدل از واحد مشاهده یک جدول است. \t\n",
    "            </li>\n",
    "            </ol>\n",
    "برای داده‌های متنی، مدل تمیز شده را جدولی با یک \n",
    "        <i>token</i>\n",
    "         در هر سطر تعریف می‌کنیم. یک token، واحد معناداری از متن است (مثلا یک کلمه یا یک جمعه) که ما برای تحلیل از آن استفاده می‌کنیم. در مرتب‌سازی داده‌های متنی، تلاش می‌کنیم که طی فرآیند\n",
    "        <i>tokenization</i>\n",
    "        متن را به tokenها تقسیم کنیم. \n",
    "<br><br>\n",
    "پس از این مقدمه و تعاریف، پیاده‌سازی این عملیات در R را شروع می‌کنیم. \n",
    "\n",
    "</font>\n",
    "</div>"
   ]
  },
  {
   "cell_type": "markdown",
   "metadata": {},
   "source": [
    "<br>\n",
    "<div id=\"sec_tidytext_install\" style=\"direction:rtl;line-height:300%;\">\n",
    "\t<font face=\"XB Zar\" size=5>\n",
    "\t\t<font color=#FF7500 size=6>\n",
    "نصب کتاب‌خانه‌ی tidytext\n",
    "</font>\n",
    "\t\t<p></p>\n",
    "\t\t<hr>\n",
    "        با اجرای دستور\n",
    "</font>\n",
    "</div>"
   ]
  },
  {
   "cell_type": "code",
   "execution_count": 1,
   "metadata": {},
   "outputs": [
    {
     "name": "stderr",
     "output_type": "stream",
     "text": [
      "Installing package into ‘/usr/local/lib/R/site-library’\n",
      "(as ‘lib’ is unspecified)\n",
      "Warning message in install.packages(\"tidytext\"):\n",
      "“'lib = \"/usr/local/lib/R/site-library\"' is not writable”"
     ]
    },
    {
     "ename": "ERROR",
     "evalue": "Error in install.packages(\"tidytext\"): unable to install packages\n",
     "output_type": "error",
     "traceback": [
      "Error in install.packages(\"tidytext\"): unable to install packages\nTraceback:\n",
      "1. install.packages(\"tidytext\")",
      "2. stop(\"unable to install packages\")"
     ]
    }
   ],
   "source": [
    "install.packages(\"tidytext\")"
   ]
  },
  {
   "cell_type": "markdown",
   "metadata": {},
   "source": [
    "<div style=\"direction:rtl;line-height:300%;\">\n",
    "\t<font face=\"XB Zar\" size=5>\n",
    "یا\n",
    "</font>\n",
    "</div>"
   ]
  },
  {
   "cell_type": "code",
   "execution_count": null,
   "metadata": {},
   "outputs": [],
   "source": [
    "library(devtools)\n",
    "install_github(\"juliasilge/tidytext\")"
   ]
  },
  {
   "cell_type": "markdown",
   "metadata": {},
   "source": [
    "<div style=\"direction:rtl;line-height:300%;\">\n",
    "\t<font face=\"XB Zar\" size=5>\n",
    "    کتابخانه‌ی tidytext را نصب کنید. پس از اتمام فرآیند نصب، با اجرای دستور \n",
    "</font>\n",
    "</div>"
   ]
  },
  {
   "cell_type": "code",
   "execution_count": null,
   "metadata": {},
   "outputs": [],
   "source": [
    "library(tidytext)"
   ]
  },
  {
   "cell_type": "markdown",
   "metadata": {},
   "source": [
    "<div style=\"direction:rtl;line-height:300%;\">\n",
    "\t<font face=\"XB Zar\" size=5>\n",
    "می‌توانید از آن استفاده کنید. </font>\n",
    "</div>"
   ]
  },
  {
   "cell_type": "markdown",
   "metadata": {},
   "source": [
    "<br>\n",
    "<div id=\"sec_unnest_tokens\" style=\"direction:rtl;line-height:300%;\">\n",
    "\t<font face=\"XB Zar\" size=5>\n",
    "\t\t<font color=#FF7500 size=6>\n",
    "تابع unnest_tokens\n",
    "</font>\n",
    "\t\t<p></p>\n",
    "\t\t<hr>\n",
    "داده‌ی ساده‌ي زیر شامل چند بیت آغاز شاهنامه‌ی فردوسی است\n",
    "    </font>\n",
    "</div>"
   ]
  },
  {
   "cell_type": "code",
   "execution_count": null,
   "metadata": {},
   "outputs": [],
   "source": [
    "#4\n",
    "df <- data_frame(text = c(\"به نام خداوند جان و خرد\", \n",
    "       \"کزین برتر اندیشه برنگذرد\",\n",
    "       \"خداوند نام و خداوند جای\",\n",
    "       \"خداوند روزی ده رهنمای\")) "
   ]
  },
  {
   "cell_type": "markdown",
   "metadata": {},
   "source": [
    "<div style=\"direction:rtl;line-height:300%;\">\n",
    "\t<font face=\"XB Zar\" size=5>\n",
    "می‌خواهیم این دیتافریم را طبق تعریفی که قبلا ارائه کردیم tokenize کنیم. تابع unnest_tokens() به شکل بسیار راحتی این کار را برای ما می‌کند. این تابع ورودی‌های زیر را می‌گیرد:\n",
    "<ol>\n",
    "    <li>\n",
    "        دیتافریمی که باید tokenize کند. \n",
    "    </li>\n",
    "        <li>\n",
    "            نام ستون خروجی شامل tokenها\n",
    "    </li>\n",
    "        <li>\n",
    "            نام ستون ورودی شامل متن\n",
    "    </li>\n",
    "        <li>\n",
    "            نوع token \n",
    "    </li>\n",
    "    </ol>\n",
    "        تا اینجا مورد اول تا سوم برای ما کافی هستند، در رابطه با مورد چهارم جلوتر توضیح خواهیم داد. \n",
    "مطابق با توضیحات بالا، تابع را فراخوانی می‌کنیم\n",
    "\n",
    "</font>\n",
    "</div>"
   ]
  },
  {
   "cell_type": "code",
   "execution_count": null,
   "metadata": {
    "scrolled": true
   },
   "outputs": [],
   "source": [
    "df %>% unnest_tokens(word, text)"
   ]
  },
  {
   "cell_type": "markdown",
   "metadata": {},
   "source": [
    "<div style=\"direction:rtl;line-height:300%;\">\n",
    "\t<font face=\"XB Zar\" size=5>\n",
    "        می‌بینید که در ستون خروجی word، کلمات جداشده‌ی متن قرار دارند. \n",
    "</font>\n",
    "</div>"
   ]
  },
  {
   "cell_type": "markdown",
   "metadata": {},
   "source": [
    "<br>\n",
    "<div id=\"sec_tidy_shahname\" style=\"direction:rtl;line-height:300%;\">\n",
    "\t<font face=\"XB Zar\" size=5>\n",
    "\t\t<font color=#FF7500 size=6>\n",
    "یک قدم فراتر: بررسی چند بخش شاهنامه\n",
    "        </font>\n",
    "\t\t<p></p>\n",
    "\t\t<hr>\n",
    "داده‌ي موجود در فایل shahname.txt شامل ۱۰ بخش از داستان رستم و اسفندیار شاهنامه است. با دستور زیر داده را می‌خوانیم.\n",
    "    </font>\n",
    "</div>"
   ]
  },
  {
   "cell_type": "code",
   "execution_count": null,
   "metadata": {
    "scrolled": true
   },
   "outputs": [],
   "source": [
    "shahname <- read.delim(file = \"shahname.txt\", stringsAsFactors = F, header = F)\n",
    "colnames(shahname) = \"beyt\""
   ]
  },
  {
   "cell_type": "markdown",
   "metadata": {},
   "source": [
    "<div style=\"direction:rtl;line-height:300%;\">\n",
    "\t<font face=\"XB Zar\" size=5>\n",
    "پس از بررسی داده، متوجه می‌شویم که شروع هر بخش با ”بخش n“ مشخص شده است که n عدد با فونت فارسی است. می‌خواهیم بخش‌های مختلف کتاب را از هم جدا کنیم. به regex زیر توجه کنید:\n",
    " \n",
    "</font>\n",
    "</div>"
   ]
  },
  {
   "cell_type": "code",
   "execution_count": null,
   "metadata": {
    "scrolled": true
   },
   "outputs": [],
   "source": [
    "regex_chapter <- \"بخش [۰۱۲۳۴۵۶۷۸۹]+\""
   ]
  },
  {
   "cell_type": "markdown",
   "metadata": {},
   "source": [
    "<div style=\"direction:rtl;line-height:300%;\">\n",
    "\t<font face=\"XB Zar\" size=5>\n",
    "        این regex تشخیص می‌دهد که ”بخش n“ در متن قرار دارد یا نه. برای اطلاعات بیشتر از regexها به\n",
    "         <a href=\"http://www.cbs.dtu.dk/courses/27610/regular-expressions-cheat-sheet-v2.pdf\">اینجا</a>\n",
    "        و \n",
    "         <a href=\"https://stringr.tidyverse.org/articles/regular-expressions.html\">اینجا</a>\n",
    "        مراجعه کنید. \n",
    "        <br><br>\n",
    "        با استفاده از دستورات زیر مشخص می‌کنیم که هر بیت مربوط به کدام بخش است:\n",
    "       \n",
    "</font>\n",
    "</div>"
   ]
  },
  {
   "cell_type": "code",
   "execution_count": null,
   "metadata": {
    "scrolled": true
   },
   "outputs": [],
   "source": [
    "library(stringr)\n",
    "shahname.chapter <- shahname %>%\n",
    "    mutate(chapter = cumsum(str_detect(beyt, regex_chapter)))"
   ]
  },
  {
   "cell_type": "markdown",
   "metadata": {},
   "source": [
    "<div style=\"direction:rtl;line-height:300%;\">\n",
    "\t<font face=\"XB Zar\" size=5>\n",
    "        مانند فرآیندی که در بخش قبل انجام دادیم، کلمات را جدا کرده، تعداد آن ها در هر فصل را بدست می‌آوریم و به ترتیب نزولی می‌چینیم. \n",
    "</font>\n",
    "</div>"
   ]
  },
  {
   "cell_type": "code",
   "execution_count": null,
   "metadata": {},
   "outputs": [],
   "source": [
    "shahname.chapter <- shahname.chapter %>% \n",
    "    unnest_tokens(word, beyt) %>% \n",
    "    group_by(chapter, word) %>% \n",
    "    summarise(count = n()) %>% \n",
    "    arrange(chapter, desc(count))"
   ]
  },
  {
   "cell_type": "markdown",
   "metadata": {},
   "source": [
    "<div style=\"direction:rtl;line-height:300%;\">\n",
    "\t<font face=\"XB Zar\" size=5>\n",
    "\tدر هر بخش ۱۰ کلمه‌ی پر‌تکرار را انتخاب می‌کنیم \n",
    "</font>\n",
    "</div>"
   ]
  },
  {
   "cell_type": "code",
   "execution_count": null,
   "metadata": {},
   "outputs": [],
   "source": [
    "shahname.chapter.best <- shahname.chapter %>% \n",
    "  mutate(rank = rank(-count) %>% as.integer(), \n",
    "         rank = row_number(rank)) %>% \n",
    "  filter(rank <= 10)"
   ]
  },
  {
   "cell_type": "markdown",
   "metadata": {},
   "source": [
    "<div style=\"direction:rtl;line-height:300%;\">\n",
    "\t<font face=\"XB Zar\" size=5>\n",
    "\tدر نهایت نمودار فراوانی این کلمات را رسم می‌کنیم</font>\n",
    "</div>"
   ]
  },
  {
   "cell_type": "code",
   "execution_count": null,
   "metadata": {
    "scrolled": false
   },
   "outputs": [],
   "source": [
    "p <- ggplot(shahname.chapter.best, aes(x = word, y = count, fill = as.factor(paste(\"بخش\", chapter, sep = \" \")))) + \n",
    "  geom_bar(stat = \"identity\", show.legend = FALSE) + \n",
    "  facet_wrap(~chapter, ncol = 5,  scales = \"free\") + \n",
    "  theme_minimal() + \n",
    "  coord_flip()"
   ]
  },
  {
   "cell_type": "markdown",
   "metadata": {},
   "source": [
    "<div style=\"direction:rtl;line-height:300%;\">\n",
    "\t<font face=\"XB Zar\" size=5>\n",
    "\tچون ggplot برای زبان‌های راست به چپ درست عمل نمی‌کند از کتابخانه‌ی plotly استفاده می‌کنیم. \n",
    "    </font>\n",
    "</div>"
   ]
  },
  {
   "cell_type": "code",
   "execution_count": null,
   "metadata": {},
   "outputs": [],
   "source": [
    "library(plotly)\n",
    "ggplotly(p)"
   ]
  },
  {
   "cell_type": "markdown",
   "metadata": {},
   "source": [
    "<div style=\"direction:rtl;line-height:300%;\">\n",
    "\t<font face=\"XB Zar\" size=5>\n",
    "همانطور که می‌بینید بخش زیادی از کلمات، کلمات اضافه و بی‌معنی هستند. شما باید این کلمات را از متن حذف کنید تا تحلیل بهتری داشته باشید. \n",
    "        برای این‌کار می‌توانید لیستی از کلمات اضافه تهیه کنید \n",
    "کلمات مخالف آن‌ها را در tokenها فیلتر کنید.\n",
    "    </font>\n",
    "</div>"
   ]
  },
  {
   "cell_type": "code",
   "execution_count": null,
   "metadata": {},
   "outputs": [],
   "source": []
  }
 ],
 "metadata": {
  "kernelspec": {
   "display_name": "R",
   "language": "R",
   "name": "ir"
  },
  "language_info": {
   "codemirror_mode": "r",
   "file_extension": ".r",
   "mimetype": "text/x-r-source",
   "name": "R",
   "pygments_lexer": "r",
   "version": "3.5.2"
  },
  "latex_envs": {
   "LaTeX_envs_menu_present": true,
   "autoclose": false,
   "autocomplete": true,
   "bibliofile": "biblio.bib",
   "cite_by": "apalike",
   "current_citInitial": 1,
   "eqLabelWithNumbers": true,
   "eqNumInitial": 1,
   "hotkeys": {
    "equation": "Ctrl-E",
    "itemize": "Ctrl-I"
   },
   "labels_anchors": false,
   "latex_user_defs": false,
   "report_style_numbering": false,
   "user_envs_cfg": false
  },
  "toc": {
   "base_numbering": 1,
   "nav_menu": {},
   "number_sections": true,
   "sideBar": true,
   "skip_h1_title": false,
   "title_cell": "Table of Contents",
   "title_sidebar": "Contents",
   "toc_cell": false,
   "toc_position": {},
   "toc_section_display": true,
   "toc_window_display": false
  },
  "varInspector": {
   "cols": {
    "lenName": 16,
    "lenType": 16,
    "lenVar": 40
   },
   "kernels_config": {
    "python": {
     "delete_cmd_postfix": "",
     "delete_cmd_prefix": "del ",
     "library": "var_list.py",
     "varRefreshCmd": "print(var_dic_list())"
    },
    "r": {
     "delete_cmd_postfix": ") ",
     "delete_cmd_prefix": "rm(",
     "library": "var_list.r",
     "varRefreshCmd": "cat(var_dic_list()) "
    }
   },
   "types_to_exclude": [
    "module",
    "function",
    "builtin_function_or_method",
    "instance",
    "_Feature"
   ],
   "window_display": false
  }
 },
 "nbformat": 4,
 "nbformat_minor": 2
}
