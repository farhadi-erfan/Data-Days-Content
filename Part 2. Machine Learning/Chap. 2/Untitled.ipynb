{
 "cells": [
  {
   "cell_type": "markdown",
   "metadata": {},
   "source": [
    "<body  style=\"background-color:rgb(11, 42, 73);\">\n",
    "    <div style=\"direction:rtl;line-height:300%;background-color:rgb(11, 42, 73);\">\n",
    "            <img src=\"./figs/Logo Final.jpg\" style=\"position:reletive;margin-top:15pt;float:right;background-color:rgb(11, 42, 73);\" width=\"200\" height=\"200\"/>\n",
    "    <img src=\"./figs/Sharif Logo.png\" style=\"position:reletive;margin-top:25pt;margin-left:20pt;float:left;background-color:rgb(11, 42, 73);\" width=\"170\" height=\"170\"/>\n",
    "\t\t<div align=center>\n",
    "\t\t\t<font face=\"IranNastaliq\" size=30 color=white>\n",
    "                <br>\n",
    "به نام خدا\n",
    "\t\t\t</font>\n",
    "\t\t</div>\n",
    "        \t\t\t<div align=center style=\"color:white\">\n",
    "                        <font size=50 face=\"XB Niloofar\">\n",
    "                            <br>\n",
    "                            یادگیری ماشین\n",
    "                        </font>\n",
    "            </div>\n",
    "    </div>\n",
    "</body>"
   ]
  },
  {
   "cell_type": "markdown",
   "metadata": {},
   "source": [
    "<div id=\"sec_installR\" style=\"direction:rtl;line-height:300%;\">\n",
    "\t<font face=\"XB Niloofar\" size=5>\n",
    "\t\t<font color=#006FDE size=6>\n",
    "دیتاستِ مورد استفاده\n",
    "        </font>\n",
    "\t\t<hr>\n",
    "        <font color=#000000 size=5>\n",
    "            در این بخش ما از دیتاستِ قیمت‌ خانه‌های کالیفرنیا (California Housing Prices dataset) از مخزن StatLib استفاده می‌کنیم. برای مقاصد آموزشی، یک ویژگی دسته‌ای به این دیتاست اضافه کرده‌ایم و چند ویژگی حذف شده‌اند.\n",
    "\t</font>\n",
    "</div>"
   ]
  },
  {
   "cell_type": "markdown",
   "metadata": {},
   "source": [
    "<div id=\"sec_installR\" style=\"direction:rtl;line-height:300%;\">\n",
    "\t<font face=\"XB Niloofar\" size=5>\n",
    "            در مرحله‌ی اول باید یک مدل از قیمت خانه‌های کالیفرنیا، با استفاده از این دیتاست، بسازیم. این دیتاست حاوی مقادیرِ جمعیت، میانه‌ی درآمد، میانه‌ی قیمت خانه، و … برای هر منطقه از کالیفرنیا است.\n",
    "        <br>\n",
    "        مدل شما باید با داده آموزش ببیند و باید بتواند با داشتن تمام مقادیر دیگر، میانه‌ی قیمت خانه در هر منطقه را پیش‌بینی کند.\n",
    "    </font>\n",
    "</div>"
   ]
  },
  {
   "cell_type": "code",
   "execution_count": null,
   "metadata": {},
   "outputs": [],
   "source": []
  }
 ],
 "metadata": {
  "kernelspec": {
   "display_name": "Python 3",
   "language": "python",
   "name": "python3"
  },
  "language_info": {
   "codemirror_mode": {
    "name": "ipython",
    "version": 3
   },
   "file_extension": ".py",
   "mimetype": "text/x-python",
   "name": "python",
   "nbconvert_exporter": "python",
   "pygments_lexer": "ipython3",
   "version": "3.6.6"
  }
 },
 "nbformat": 4,
 "nbformat_minor": 2
}
